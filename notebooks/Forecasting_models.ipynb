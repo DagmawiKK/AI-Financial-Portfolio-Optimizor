{
 "cells": [
  {
   "cell_type": "markdown",
   "id": "72cfb8c7",
   "metadata": {},
   "source": [
    "# Import Libraries\n"
   ]
  },
  {
   "cell_type": "code",
   "execution_count": 1,
   "id": "6f4fe0ce",
   "metadata": {},
   "outputs": [
    {
     "name": "stderr",
     "output_type": "stream",
     "text": [
      "2025-08-19 00:29:54.030903: I external/local_xla/xla/tsl/cuda/cudart_stub.cc:31] Could not find cuda drivers on your machine, GPU will not be used.\n",
      "2025-08-19 00:29:54.108892: I tensorflow/core/platform/cpu_feature_guard.cc:210] This TensorFlow binary is optimized to use available CPU instructions in performance-critical operations.\n",
      "To enable the following instructions: AVX2 FMA, in other operations, rebuild TensorFlow with the appropriate compiler flags.\n",
      "2025-08-19 00:29:56.238597: I external/local_xla/xla/tsl/cuda/cudart_stub.cc:31] Could not find cuda drivers on your machine, GPU will not be used.\n"
     ]
    }
   ],
   "source": [
    "import pandas as pd\n",
    "import numpy as np\n",
    "import matplotlib.pyplot as plt\n",
    "import seaborn as sns\n",
    "from sklearn.preprocessing import MinMaxScaler\n",
    "from sklearn.metrics import mean_absolute_error, mean_squared_error\n",
    "from statsmodels.tsa.arima.model import ARIMA\n",
    "from tensorflow.keras.models import Sequential\n",
    "from tensorflow.keras.layers import LSTM, Dense, Dropout\n",
    "from tensorflow.keras.callbacks import EarlyStopping"
   ]
  },
  {
   "cell_type": "markdown",
   "id": "a4aeab9e",
   "metadata": {},
   "source": [
    "# Load Data"
   ]
  },
  {
   "cell_type": "code",
   "execution_count": null,
   "id": "926890d0",
   "metadata": {},
   "outputs": [],
   "source": [
    "\n",
    "# Load the processed 'Adj Close' data\n",
    "try:\n",
    "    data = pd.read_csv('../data/adj_close.csv', index_col=0, parse_dates=True)\n",
    "    if isinstance(data.columns, pd.MultiIndex):\n",
    "        # Assuming the ticker is the last level or identifiable\n",
    "        new_cols = []\n",
    "        for col_tuple in data.columns:\n",
    "            if 'TSLA' in col_tuple:\n",
    "                new_cols.append('TSLA')\n",
    "            elif 'BND' in col_tuple:\n",
    "                new_cols.append('BND')\n",
    "            elif 'SPY' in col_tuple:\n",
    "                new_cols.append('SPY')\n",
    "            else:\n",
    "                new_cols.append('_'.join(map(str, col_tuple)).replace('UNNAMED: ', '').replace('_LEVEL_2', ''))\n",
    "        data.columns = new_cols\n",
    "        data = data[['TSLA', 'BND', 'SPY']] # Ensure order and correct selection\n",
    "\n",
    "    print(\"Data loaded successfully from adj_close.csv!\")\n",
    "    print(\"Columns in loaded data:\", data.columns)\n",
    "except Exception as e:\n",
    "    print(f\"Error loading data from adj_close.csv: {e}\")\n",
    "    print(\"Please ensure 'adj_close.csv' is correctly generated from Task 1 and contains the 'Adj Close' prices.\")\n",
    "    # Fallback if adj_close.csv somehow fails, try to use raw_data and re-extract\n",
    "    try:\n",
    "        raw_data = pd.read_csv('../data/financial_data.csv', header=[0, 1], index_col=0, parse_dates=True)\n",
    "        # Select only the 'Adj Close' prices, which simplifies the DataFrame\n",
    "        data = raw_data['Adj Close']\n",
    "        # Rename columns to just ticker names\n",
    "        data.columns = ['BND', 'SPY', 'TSLA']\n",
    "        print(\"Successfully re-extracted 'Adj Close' from 'financial_data.csv'.\")\n",
    "    except Exception as e_fallback:\n",
    "        print(f\"Fallback failed: {e_fallback}. Cannot proceed without proper data.\")\n",
    "        exit() # Exit if data cannot be loaded properly"
   ]
  }
 ],
 "metadata": {
  "kernelspec": {
   "display_name": "venv",
   "language": "python",
   "name": "python3"
  },
  "language_info": {
   "codemirror_mode": {
    "name": "ipython",
    "version": 3
   },
   "file_extension": ".py",
   "mimetype": "text/x-python",
   "name": "python",
   "nbconvert_exporter": "python",
   "pygments_lexer": "ipython3",
   "version": "3.11.2"
  }
 },
 "nbformat": 4,
 "nbformat_minor": 5
}
