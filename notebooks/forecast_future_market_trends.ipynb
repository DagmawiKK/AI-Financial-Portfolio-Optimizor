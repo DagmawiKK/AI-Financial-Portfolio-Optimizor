{
 "cells": [
  {
   "cell_type": "markdown",
   "id": "74e936aa",
   "metadata": {},
   "source": [
    "# Import Dependencies"
   ]
  },
  {
   "cell_type": "code",
   "execution_count": 1,
   "id": "1d8e8cde",
   "metadata": {},
   "outputs": [
    {
     "name": "stderr",
     "output_type": "stream",
     "text": [
      "2025-08-19 00:50:03.655366: I external/local_xla/xla/tsl/cuda/cudart_stub.cc:31] Could not find cuda drivers on your machine, GPU will not be used.\n",
      "2025-08-19 00:50:03.733813: I tensorflow/core/platform/cpu_feature_guard.cc:210] This TensorFlow binary is optimized to use available CPU instructions in performance-critical operations.\n",
      "To enable the following instructions: AVX2 FMA, in other operations, rebuild TensorFlow with the appropriate compiler flags.\n",
      "2025-08-19 00:50:06.036365: I external/local_xla/xla/tsl/cuda/cudart_stub.cc:31] Could not find cuda drivers on your machine, GPU will not be used.\n"
     ]
    }
   ],
   "source": [
    "import pandas as pd\n",
    "import numpy as np\n",
    "import matplotlib.pyplot as plt\n",
    "import seaborn as sns\n",
    "from sklearn.preprocessing import MinMaxScaler\n",
    "from sklearn.metrics import mean_absolute_error, mean_squared_error\n",
    "from statsmodels.tsa.arima.model import ARIMA\n",
    "from tensorflow.keras.models import Sequential\n",
    "from tensorflow.keras.layers import LSTM, Dense, Dropout\n",
    "from tensorflow.keras.callbacks import EarlyStopping"
   ]
  },
  {
   "cell_type": "markdown",
   "id": "6071788b",
   "metadata": {},
   "source": [
    "# Load Processed Data"
   ]
  },
  {
   "cell_type": "code",
   "execution_count": 2,
   "id": "f4722de9",
   "metadata": {},
   "outputs": [
    {
     "name": "stdout",
     "output_type": "stream",
     "text": [
      "Data loaded successfully from adj_close.csv!\n"
     ]
    }
   ],
   "source": [
    "try:\n",
    "    data = pd.read_csv('../data/adj_close.csv', index_col=0, parse_dates=True)\n",
    "    if isinstance(data.columns, pd.MultiIndex):\n",
    "        new_cols = []\n",
    "        for col_tuple in data.columns:\n",
    "            if 'TSLA' in col_tuple:\n",
    "                new_cols.append('TSLA')\n",
    "            elif 'BND' in col_tuple:\n",
    "                new_cols.append('BND')\n",
    "            elif 'SPY' in col_tuple:\n",
    "                new_cols.append('SPY')\n",
    "            else:\n",
    "                new_cols.append('_'.join(map(str, col_tuple)).replace('UNNAMED: ', '').replace('_LEVEL_2', ''))\n",
    "        data.columns = new_cols\n",
    "        data = data[['TSLA', 'BND', 'SPY']]\n",
    "    print(\"Data loaded successfully from adj_close.csv!\")\n",
    "except Exception as e:\n",
    "    print(f\"Error loading data from adj_close.csv: {e}\")\n",
    "    try:\n",
    "        raw_data = pd.read_csv('../data/financial_data.csv', header=[0, 1], index_col=0, parse_dates=True)\n",
    "        data = raw_data['Adj Close']\n",
    "        data.columns = ['BND', 'SPY', 'TSLA']\n",
    "        print(\"Successfully re-extracted 'Adj Close' from 'financial_data.csv'.\")\n",
    "    except Exception as e_fallback:\n",
    "        print(f\"Fallback failed: {e_fallback}. Cannot proceed without proper data.\")\n",
    "        exit()\n"
   ]
  },
  {
   "cell_type": "markdown",
   "id": "3499938b",
   "metadata": {},
   "source": [
    "# TSLA - Forecasting"
   ]
  },
  {
   "cell_type": "code",
   "execution_count": null,
   "id": "8f89f0d8",
   "metadata": {},
   "outputs": [
    {
     "name": "stdout",
     "output_type": "stream",
     "text": [
      "\n",
      "--- Retraining LSTM Model for Future Forecasting ---\n"
     ]
    }
   ],
   "source": [
    "data.columns = ['BND', 'SPY', 'TSLA']\n",
    "\n",
    "tsla_data = data[['TSLA']].copy()\n",
    "\n",
    "# --- Data Splitting  ---\n",
    "train_start_date = '2015-07-01'\n",
    "train_end_date = '2023-12-31'\n",
    "test_start_date = '2024-01-01'\n",
    "test_end_date = '2025-07-31'\n",
    "\n",
    "train_data = tsla_data[train_start_date:train_end_date]\n",
    "test_data = tsla_data[test_start_date:test_end_date]\n",
    "\n",
    "# --- Evaluation Metrics Function ---\n",
    "def evaluate_model(y_true, y_pred, model_name):\n",
    "    mae = mean_absolute_error(y_true, y_pred)\n",
    "    rmse = np.sqrt(mean_squared_error(y_true, y_pred))\n",
    "    mape = np.mean(np.abs((y_true - y_pred) / y_true)) * 100\n",
    "    print(f\"\\n--- {model_name} Model Evaluation ---\")\n",
    "    print(f\"Mean Absolute Error (MAE): {mae:.4f}\")\n",
    "    print(f\"Root Mean Squared Error (RMSE): {rmse:.4f}\")\n",
    "    print(f\"Mean Absolute Percentage Error (MAPE): {mape:.2f}%\")\n",
    "    return mae, rmse, mape\n",
    "\n",
    "print(\"\\n--- Retraining LSTM Model for Future Forecasting ---\")\n"
   ]
  }
 ],
 "metadata": {
  "kernelspec": {
   "display_name": "venv",
   "language": "python",
   "name": "python3"
  },
  "language_info": {
   "codemirror_mode": {
    "name": "ipython",
    "version": 3
   },
   "file_extension": ".py",
   "mimetype": "text/x-python",
   "name": "python",
   "nbconvert_exporter": "python",
   "pygments_lexer": "ipython3",
   "version": "3.11.2"
  }
 },
 "nbformat": 4,
 "nbformat_minor": 5
}
