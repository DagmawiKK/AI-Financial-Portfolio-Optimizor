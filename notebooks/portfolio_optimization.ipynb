{
 "cells": [
  {
   "cell_type": "markdown",
   "id": "31831dfa",
   "metadata": {},
   "source": [
    "# Import Dependencies"
   ]
  },
  {
   "cell_type": "code",
   "execution_count": 1,
   "id": "d9c3a824",
   "metadata": {},
   "outputs": [],
   "source": [
    "import pandas as pd\n",
    "import numpy as np\n",
    "import matplotlib.pyplot as plt\n",
    "import seaborn as sns\n",
    "from scipy.optimize import minimize"
   ]
  },
  {
   "cell_type": "markdown",
   "id": "681f306c",
   "metadata": {},
   "source": [
    "# Load Data"
   ]
  },
  {
   "cell_type": "code",
   "execution_count": 2,
   "id": "05871f7f",
   "metadata": {},
   "outputs": [
    {
     "name": "stdout",
     "output_type": "stream",
     "text": [
      "Data loaded successfully from adj_close.csv!\n",
      "Columns in loaded data: Index(['('CLOSE', 'BND', 'UNNAMED: 1_LEVEL_2')',\n",
      "       '('CLOSE', 'SPY', 'UNNAMED: 2_LEVEL_2')',\n",
      "       '('CLOSE', 'TSLA', 'UNNAMED: 3_LEVEL_2')'],\n",
      "      dtype='object')\n"
     ]
    }
   ],
   "source": [
    "\n",
    "\n",
    "# Load the processed 'Adj Close' data from the CSV saved in Task 1\n",
    "try:\n",
    "    data = pd.read_csv('../data/adj_close.csv', index_col=0, parse_dates=True)\n",
    "    # Ensure column names are simplified for easier access if they are still tuples from previous runs\n",
    "    if isinstance(data.columns, pd.MultiIndex):\n",
    "        new_cols = []\n",
    "        for col_tuple in data.columns:\n",
    "            if 'TSLA' in col_tuple:\n",
    "                new_cols.append('TSLA')\n",
    "            elif 'BND' in col_tuple:\n",
    "                new_cols.append('BND')\n",
    "            elif 'SPY' in col_tuple:\n",
    "                new_cols.append('SPY')\n",
    "            else:\n",
    "                new_cols.append('_'.join(map(str, col_tuple)).replace('UNNAMED: ', '').replace('_LEVEL_2', ''))\n",
    "        data.columns = new_cols\n",
    "        data = data[['TSLA', 'BND', 'SPY']]\n",
    "    print(\"Data loaded successfully from adj_close.csv!\")\n",
    "    print(\"Columns in loaded data:\", data.columns)\n",
    "except Exception as e:\n",
    "    print(f\"Error loading data from adj_close.csv: {e}\")\n",
    "    try:\n",
    "        raw_data = pd.read_csv('../data/financial_data.csv', header=[0, 1], index_col=0, parse_dates=True)\n",
    "        data = raw_data['Adj Close']\n",
    "        data.columns = ['BND', 'SPY', 'TSLA']\n",
    "        print(\"Successfully re-extracted 'Adj Close' from 'financial_data.csv'.\")\n",
    "    except Exception as e_fallback:\n",
    "        print(f\"Fallback failed: {e_fallback}. Cannot proceed without proper data.\")\n",
    "        exit()\n"
   ]
  },
  {
   "cell_type": "markdown",
   "id": "47c2001f",
   "metadata": {},
   "source": [
    "# Calculate Daily Returns"
   ]
  },
  {
   "cell_type": "code",
   "execution_count": null,
   "id": "3541a902",
   "metadata": {},
   "outputs": [
    {
     "name": "stdout",
     "output_type": "stream",
     "text": [
      "\n",
      "Expected Annual Returns (for optimization):\n",
      "TSLA: -0.5400\n",
      "BND: 0.0196\n",
      "SPY: 0.1448\n"
     ]
    }
   ],
   "source": [
    "# --- 1. Calculate Daily Returns ---\n",
    "# Calculate daily percentage change for all assets\n",
    "daily_returns = data.pct_change().dropna()\n",
    "daily_returns.columns = ['BND', 'SPY', 'TSLA']  # Rename columns for consistency\n",
    "\n",
    "# --- 2. Define Expected Returns ---\n",
    "tsla_predicted_annual_return = -0.54 # This is a placeholder derived from the visual forecast\n",
    "tsla_expected_daily_return = (1 + tsla_predicted_annual_return)**(1/252) - 1\n",
    "\n",
    "\n",
    "# Calculate historical average daily returns (annualized) for BND and SPY\n",
    "bnd_expected_daily_return = daily_returns['BND'].mean()\n",
    "spy_expected_daily_return = daily_returns['SPY'].mean()\n",
    "\n",
    "# Annualize the daily returns for BND and SPY\n",
    "bnd_annual_return = bnd_expected_daily_return * 252\n",
    "spy_annual_return = spy_expected_daily_return * 252\n",
    "\n",
    "expected_returns = np.array([tsla_predicted_annual_return, bnd_annual_return, spy_annual_return])\n",
    "assets = ['TSLA', 'BND', 'SPY'] # Ensure order matches expected_returns\n",
    "\n",
    "print(\"\\nExpected Annual Returns (for optimization):\")\n",
    "for i, asset in enumerate(assets):\n",
    "    print(f\"{asset}: {expected_returns[i]:.4f}\")"
   ]
  },
  {
   "cell_type": "markdown",
   "id": "599cf818",
   "metadata": {},
   "source": [
    "# Covarianc Matrix"
   ]
  },
  {
   "cell_type": "code",
   "execution_count": null,
   "id": "b9de0be1",
   "metadata": {},
   "outputs": [
    {
     "name": "stdout",
     "output_type": "stream",
     "text": [
      "\n",
      "Annualized Covariance Matrix:\n",
      "           BND       SPY      TSLA\n",
      "BND   0.003016  0.001150  0.001861\n",
      "SPY   0.001150  0.033272  0.052950\n",
      "TSLA  0.001861  0.052950  0.350331\n"
     ]
    }
   ],
   "source": [
    "# --- 3. Covariance Matrix ---\n",
    "cov_matrix_daily = daily_returns.cov()\n",
    "\n",
    "# Annualize the covariance matrix\n",
    "cov_matrix_annual = cov_matrix_daily * 252\n",
    "\n",
    "print(\"\\nAnnualized Covariance Matrix:\")\n",
    "print(cov_matrix_annual)"
   ]
  }
 ],
 "metadata": {
  "kernelspec": {
   "display_name": "venv",
   "language": "python",
   "name": "python3"
  },
  "language_info": {
   "codemirror_mode": {
    "name": "ipython",
    "version": 3
   },
   "file_extension": ".py",
   "mimetype": "text/x-python",
   "name": "python",
   "nbconvert_exporter": "python",
   "pygments_lexer": "ipython3",
   "version": "3.11.2"
  }
 },
 "nbformat": 4,
 "nbformat_minor": 5
}
