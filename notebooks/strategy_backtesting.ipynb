{
 "cells": [
  {
   "cell_type": "markdown",
   "id": "f9626e4b",
   "metadata": {},
   "source": [
    "# Import Dependencies"
   ]
  },
  {
   "cell_type": "code",
   "execution_count": 1,
   "id": "17b4e33c",
   "metadata": {},
   "outputs": [],
   "source": [
    "import pandas as pd\n",
    "import numpy as np\n",
    "import matplotlib.pyplot as plt\n",
    "import seaborn as sns"
   ]
  },
  {
   "cell_type": "markdown",
   "id": "8671ed2a",
   "metadata": {},
   "source": [
    "# Load Preprocessed data"
   ]
  },
  {
   "cell_type": "code",
   "execution_count": 2,
   "id": "00778430",
   "metadata": {},
   "outputs": [
    {
     "name": "stdout",
     "output_type": "stream",
     "text": [
      "Data loaded successfully from adj_close.csv!\n",
      "Columns in loaded data: Index(['('CLOSE', 'BND', 'UNNAMED: 1_LEVEL_2')',\n",
      "       '('CLOSE', 'SPY', 'UNNAMED: 2_LEVEL_2')',\n",
      "       '('CLOSE', 'TSLA', 'UNNAMED: 3_LEVEL_2')'],\n",
      "      dtype='object')\n"
     ]
    }
   ],
   "source": [
    "try:\n",
    "    data = pd.read_csv('../data/adj_close.csv', index_col=0, parse_dates=True)\n",
    "    # Ensure column names are simplified for easier access if they are still tuples from previous runs\n",
    "    if isinstance(data.columns, pd.MultiIndex):\n",
    "        new_cols = []\n",
    "        for col_tuple in data.columns:\n",
    "            if 'TSLA' in col_tuple:\n",
    "                new_cols.append('TSLA')\n",
    "            elif 'BND' in col_tuple:\n",
    "                new_cols.append('BND')\n",
    "            elif 'SPY' in col_tuple:\n",
    "                new_cols.append('SPY')\n",
    "            else:\n",
    "                new_cols.append('_'.join(map(str, col_tuple)).replace('UNNAMED: ', '').replace('_LEVEL_2', ''))\n",
    "        data.columns = new_cols\n",
    "        data = data[['TSLA', 'BND', 'SPY']]\n",
    "    print(\"Data loaded successfully from adj_close.csv!\")\n",
    "    print(\"Columns in loaded data:\", data.columns)\n",
    "except Exception as e:\n",
    "    print(f\"Error loading data from adj_close.csv: {e}\")\n",
    "    try:\n",
    "        raw_data = pd.read_csv('financial_data.csv', header=[0, 1], index_col=0, parse_dates=True)\n",
    "        data = raw_data['Adj Close']\n",
    "        data.columns = ['BND', 'SPY', 'TSLA']\n",
    "        print(\"Successfully re-extracted 'Adj Close' from 'financial_data.csv'.\")\n",
    "    except Exception as e_fallback:\n",
    "        print(f\"Fallback failed: {e_fallback}. Cannot proceed without proper data.\")\n",
    "        exit()"
   ]
  },
  {
   "cell_type": "markdown",
   "id": "5a11cf27",
   "metadata": {},
   "source": [
    "# Backtesting"
   ]
  },
  {
   "cell_type": "code",
   "execution_count": 10,
   "id": "c87e2291",
   "metadata": {},
   "outputs": [
    {
     "name": "stdout",
     "output_type": "stream",
     "text": [
      "\n",
      "Backtesting data from 2024-08-01 to 2025-07-31.\n",
      "Shape of backtesting data: (249, 3)\n",
      "\n",
      "Benchmark Portfolio Defined (60% SPY / 40% BND).\n",
      "Strategy Portfolio Defined (Max Sharpe Ratio from Task 4).\n"
     ]
    }
   ],
   "source": [
    "\n",
    "# --- 1. Define a Backtesting Period ---\n",
    "backtest_start_date = '2024-08-01'\n",
    "backtest_end_date = '2025-07-31'\n",
    "\n",
    "# Filter data for the backtesting period\n",
    "backtest_data = data[backtest_start_date:backtest_end_date]\n",
    "print(f\"\\nBacktesting data from {backtest_start_date} to {backtest_end_date}.\")\n",
    "print(f\"Shape of backtesting data: {backtest_data.shape}\")\n",
    "\n",
    "# Calculate daily returns for the backtesting period\n",
    "backtest_daily_returns = backtest_data.pct_change().dropna()\n",
    "\n",
    "# Rename columns to simple names for easier selection\n",
    "backtest_daily_returns.columns = ['BND', 'SPY', 'TSLA']\n",
    "\n",
    "# --- 2. Define a Benchmark Portfolio ---\n",
    "# Benchmark: Static 60% SPY / 40% BND\n",
    "benchmark_weights = np.array([0.0, 0.40, 0.60]) # [TSLA, BND, SPY]\n",
    "benchmark_assets = ['BND', 'SPY'] # Assets used in benchmark\n",
    "\n",
    "# Select columns using simple names\n",
    "benchmark_returns = backtest_daily_returns[benchmark_assets]\n",
    "\n",
    "# Calculate benchmark portfolio daily returns\n",
    "benchmark_portfolio_daily_returns = (\n",
    "    benchmark_returns['BND'] * benchmark_weights[1] +\n",
    "    benchmark_returns['SPY'] * benchmark_weights[2]\n",
    ")\n",
    "\n",
    "# Calculate benchmark cumulative returns\n",
    "benchmark_cumulative_returns = (1 + benchmark_portfolio_daily_returns).cumprod() - 1\n",
    "print(\"\\nBenchmark Portfolio Defined (60% SPY / 40% BND).\")\n",
    "\n",
    "# --- 3. Simulate Your Strategy Portfolio ---\n",
    "# Use the optimal weights from the Maximum Sharpe Ratio Portfolio found in Task 4.\n",
    "# From the previous output:\n",
    "# TSLA: 0.0000\n",
    "# BND: 0.0429\n",
    "# SPY: 0.9571\n",
    "strategy_weights = np.array([0.0000, 0.0429, 0.9571]) # [TSLA, BND, SPY]\n",
    "strategy_assets = ['TSLA', 'BND', 'SPY']\n",
    "strategy_returns = backtest_daily_returns[strategy_assets]\n",
    "\n",
    "# Calculate strategy portfolio daily returns\n",
    "strategy_portfolio_daily_returns = (\n",
    "    strategy_returns['TSLA'] * strategy_weights[0] +\n",
    "    strategy_returns['BND'] * strategy_weights[1] +\n",
    "    strategy_returns['SPY'] * strategy_weights[2]\n",
    ")\n",
    "\n",
    "# Calculate strategy cumulative returns\n",
    "strategy_cumulative_returns = (1 + strategy_portfolio_daily_returns).cumprod() - 1\n",
    "print(\"Strategy Portfolio Defined (Max Sharpe Ratio from Task 4).\")\n"
   ]
  }
 ],
 "metadata": {
  "kernelspec": {
   "display_name": "venv",
   "language": "python",
   "name": "python3"
  },
  "language_info": {
   "codemirror_mode": {
    "name": "ipython",
    "version": 3
   },
   "file_extension": ".py",
   "mimetype": "text/x-python",
   "name": "python",
   "nbconvert_exporter": "python",
   "pygments_lexer": "ipython3",
   "version": "3.11.2"
  }
 },
 "nbformat": 4,
 "nbformat_minor": 5
}
